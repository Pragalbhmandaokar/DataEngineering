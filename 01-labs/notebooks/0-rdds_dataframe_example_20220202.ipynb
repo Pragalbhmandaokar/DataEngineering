{
 "cells": [
  {
   "cell_type": "markdown",
   "metadata": {
    "application/vnd.databricks.v1+cell": {
     "cellMetadata": {
      "byteLimit": 2048000,
      "rowLimit": 10000
     },
     "inputWidgets": {},
     "nuid": "87b71405-53ca-4616-b729-35c9f33aad75",
     "showTitle": false,
     "title": ""
    }
   },
   "source": [
    "## SparkSession and SparkContext\n",
    "\n",
    "SparkSession is accessible via the `spark` object and SparkContext is accessible via the `spark.sparkContext` object.\n",
    "\n",
    "SparkContext gives access to lower-level API (RDDs).\n",
    "\n",
    "Explore the methods available by each object using the autocomplete function."
   ]
  },
  {
   "cell_type": "code",
   "execution_count": 0,
   "metadata": {
    "application/vnd.databricks.v1+cell": {
     "cellMetadata": {
      "byteLimit": 2048000,
      "rowLimit": 10000
     },
     "inputWidgets": {},
     "nuid": "afbd8267-e20a-4e3e-b503-2055d2273834",
     "showTitle": false,
     "title": ""
    }
   },
   "outputs": [],
   "source": [
    "# Spark Session object\n",
    "spark"
   ]
  },
  {
   "cell_type": "code",
   "execution_count": 0,
   "metadata": {
    "application/vnd.databricks.v1+cell": {
     "cellMetadata": {
      "byteLimit": 2048000,
      "rowLimit": 10000
     },
     "inputWidgets": {},
     "nuid": "153c2a89-986f-4592-8546-5018ab0bced2",
     "showTitle": false,
     "title": ""
    }
   },
   "outputs": [],
   "source": [
    "# Spark Context object\n",
    "spark.sparkContext"
   ]
  },
  {
   "cell_type": "code",
   "execution_count": 0,
   "metadata": {
    "application/vnd.databricks.v1+cell": {
     "cellMetadata": {
      "byteLimit": 2048000,
      "rowLimit": 10000
     },
     "inputWidgets": {},
     "nuid": "bd523ac7-fdca-4eb9-bb11-49660156ba1a",
     "showTitle": false,
     "title": ""
    }
   },
   "outputs": [],
   "source": [
    "# or simply\n",
    "sc"
   ]
  },
  {
   "cell_type": "markdown",
   "metadata": {
    "application/vnd.databricks.v1+cell": {
     "cellMetadata": {
      "byteLimit": 2048000,
      "rowLimit": 10000
     },
     "inputWidgets": {},
     "nuid": "87674099-7c43-46c3-a4ee-b4aeac9107bf",
     "showTitle": false,
     "title": ""
    }
   },
   "source": [
    "## RDDs vs DataFrames\n",
    "\n",
    "The following example illustrates the expressiveness of the RDD and DataFrame APIs.\n",
    "\n",
    "### RDD"
   ]
  },
  {
   "cell_type": "code",
   "execution_count": 0,
   "metadata": {
    "application/vnd.databricks.v1+cell": {
     "cellMetadata": {
      "byteLimit": 2048000,
      "rowLimit": 10000
     },
     "inputWidgets": {},
     "nuid": "7e979f91-3f79-46ba-8bb4-0687d95c4d2a",
     "showTitle": false,
     "title": ""
    }
   },
   "outputs": [],
   "source": [
    "# input synthethic data\n",
    "# array of tuples (name, age)\n",
    "data = [(\"Brooke\", 20), (\"Denny\", 20), (\"Jules\", 30), (\"TD\", 35), (\"Brooke\", 25)]\n",
    "\n",
    "dataRDD = sc.parallelize(data)\n",
    "\n",
    "dataRDD.take(4)"
   ]
  },
  {
   "cell_type": "code",
   "execution_count": 0,
   "metadata": {
    "application/vnd.databricks.v1+cell": {
     "cellMetadata": {
      "byteLimit": 2048000,
      "rowLimit": 10000
     },
     "inputWidgets": {},
     "nuid": "7fe23a67-56fd-4103-800d-7b36297f84b4",
     "showTitle": false,
     "title": ""
    }
   },
   "outputs": [],
   "source": []
  },
  {
   "cell_type": "markdown",
   "metadata": {
    "application/vnd.databricks.v1+cell": {
     "cellMetadata": {
      "byteLimit": 2048000,
      "rowLimit": 10000
     },
     "inputWidgets": {},
     "nuid": "1e6cab0c-8b7d-4cf2-ba17-d0d757157329",
     "showTitle": false,
     "title": ""
    }
   },
   "source": [
    "Q1: Has dataRDD been loaded into memory?\n",
    "\n",
    "Q2: What does the code below do?"
   ]
  },
  {
   "cell_type": "code",
   "execution_count": 0,
   "metadata": {
    "application/vnd.databricks.v1+cell": {
     "cellMetadata": {
      "byteLimit": 2048000,
      "rowLimit": 10000
     },
     "inputWidgets": {},
     "nuid": "70c854f0-e71e-4717-8f0c-6d9cdafff183",
     "showTitle": false,
     "title": ""
    }
   },
   "outputs": [],
   "source": [
    "# operate on the RDD\n",
    "agesRDD = (\n",
    "    dataRDD\n",
    "    .map(lambda x: (x[0], (x[1], 1)))\n",
    "    .reduceByKey(lambda x, y: (x[0] + y[0], x[1] + y[1]))\n",
    "    .map(lambda x: (x[0], x[1][0]/x[1][1]))\n",
    ")\n",
    "\n",
    "agesRDD.take(4)"
   ]
  },
  {
   "cell_type": "code",
   "execution_count": 0,
   "metadata": {
    "application/vnd.databricks.v1+cell": {
     "cellMetadata": {
      "byteLimit": 2048000,
      "rowLimit": 10000
     },
     "inputWidgets": {},
     "nuid": "6493538c-3936-474e-ac14-0506e17100ba",
     "showTitle": false,
     "title": ""
    }
   },
   "outputs": [],
   "source": [
    "# Inspect the resulting DAG using the UI tool\n",
    "agesRDD.collect()"
   ]
  },
  {
   "cell_type": "code",
   "execution_count": 0,
   "metadata": {
    "application/vnd.databricks.v1+cell": {
     "cellMetadata": {
      "byteLimit": 2048000,
      "rowLimit": 10000
     },
     "inputWidgets": {},
     "nuid": "52fad82d-f560-40be-8b69-9d0328aa6a3d",
     "showTitle": false,
     "title": ""
    }
   },
   "outputs": [],
   "source": [
    "# Try again\n",
    "# Inspect the resulting DAG using the UI tool\n",
    "# What is the difference?\n",
    "agesRDD.collect()"
   ]
  },
  {
   "cell_type": "markdown",
   "metadata": {
    "application/vnd.databricks.v1+cell": {
     "cellMetadata": {
      "byteLimit": 2048000,
      "rowLimit": 10000
     },
     "inputWidgets": {},
     "nuid": "438fc30c-3d6c-45a7-bf2c-b81230f0fc46",
     "showTitle": false,
     "title": ""
    }
   },
   "source": [
    "A skipped stage indicates that the data has been fetched from cache.\n",
    "\n",
    "Whenever there is shuffling involved (group/partition by) Spark automatically caches generated data (credit https://stackoverflow.com/a/34581152/11217701)"
   ]
  },
  {
   "cell_type": "markdown",
   "metadata": {
    "application/vnd.databricks.v1+cell": {
     "cellMetadata": {
      "byteLimit": 2048000,
      "rowLimit": 10000
     },
     "inputWidgets": {},
     "nuid": "30e4deb8-059c-4cb8-98c8-f8ccdaeeaf86",
     "showTitle": false,
     "title": ""
    }
   },
   "source": [
    "### DataFrame\n",
    "\n",
    "Same as above but now using the DataFrame API."
   ]
  },
  {
   "cell_type": "code",
   "execution_count": 0,
   "metadata": {
    "application/vnd.databricks.v1+cell": {
     "cellMetadata": {
      "byteLimit": 2048000,
      "rowLimit": 10000
     },
     "inputWidgets": {},
     "nuid": "acadf220-b48d-4d50-9ba0-92be1295f1f3",
     "showTitle": false,
     "title": ""
    }
   },
   "outputs": [],
   "source": [
    "import pyspark.sql.functions as fn"
   ]
  },
  {
   "cell_type": "code",
   "execution_count": 0,
   "metadata": {
    "application/vnd.databricks.v1+cell": {
     "cellMetadata": {
      "byteLimit": 2048000,
      "rowLimit": 10000
     },
     "inputWidgets": {},
     "nuid": "e8cb5c29-ad56-47ee-a8ef-959786d502f5",
     "showTitle": false,
     "title": ""
    }
   },
   "outputs": [],
   "source": [
    "# create Dataframe\n",
    "data_df = spark.createDataFrame(data, schema=[\"name\", \"age\"])\n",
    "data_df"
   ]
  },
  {
   "cell_type": "code",
   "execution_count": 0,
   "metadata": {
    "application/vnd.databricks.v1+cell": {
     "cellMetadata": {
      "byteLimit": 2048000,
      "rowLimit": 10000
     },
     "inputWidgets": {},
     "nuid": "ff381cfc-f413-4167-87b4-ee0be3b0d956",
     "showTitle": false,
     "title": ""
    }
   },
   "outputs": [],
   "source": [
    "data_df.show()"
   ]
  },
  {
   "cell_type": "code",
   "execution_count": 0,
   "metadata": {
    "application/vnd.databricks.v1+cell": {
     "cellMetadata": {
      "byteLimit": 2048000,
      "rowLimit": 10000
     },
     "inputWidgets": {},
     "nuid": "7ab13506-66ad-4a8f-ac26-383141e9c883",
     "showTitle": false,
     "title": ""
    }
   },
   "outputs": [],
   "source": [
    "avg_df = data_df.groupBy(\"name\").agg(fn.avg(\"age\"))\n",
    "avg_df"
   ]
  },
  {
   "cell_type": "code",
   "execution_count": 0,
   "metadata": {
    "application/vnd.databricks.v1+cell": {
     "cellMetadata": {
      "byteLimit": 2048000,
      "rowLimit": 10000
     },
     "inputWidgets": {},
     "nuid": "cdc94565-cc14-4435-a33e-0a906b8e91f9",
     "showTitle": false,
     "title": ""
    }
   },
   "outputs": [],
   "source": [
    "avg_df.show()"
   ]
  },
  {
   "cell_type": "markdown",
   "metadata": {
    "application/vnd.databricks.v1+cell": {
     "cellMetadata": {
      "byteLimit": 2048000,
      "rowLimit": 10000
     },
     "inputWidgets": {},
     "nuid": "053fe51f-42c7-41d8-9045-6f82c81e7aa6",
     "showTitle": false,
     "title": ""
    }
   },
   "source": [
    "**Q:** Which code is more readable?"
   ]
  }
 ],
 "metadata": {
  "application/vnd.databricks.v1+notebook": {
   "dashboards": [],
   "environmentMetadata": null,
   "language": "python",
   "notebookMetadata": {
    "pythonIndentUnit": 4
   },
   "notebookName": "0-rdds_dataframe_example_20220202",
   "widgets": {}
  }
 },
 "nbformat": 4,
 "nbformat_minor": 0
}
