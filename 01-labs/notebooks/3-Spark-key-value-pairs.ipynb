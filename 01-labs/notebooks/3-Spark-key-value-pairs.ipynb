{
 "cells": [
  {
   "cell_type": "markdown",
   "metadata": {
    "application/vnd.databricks.v1+cell": {
     "cellMetadata": {},
     "inputWidgets": {},
     "nuid": "abbc656a-1d46-4ecc-bccb-6848c359a064",
     "showTitle": false,
     "title": ""
    }
   },
   "source": [
    "## Working with Key/Value Pairs (ch 4)"
   ]
  },
  {
   "cell_type": "markdown",
   "metadata": {
    "application/vnd.databricks.v1+cell": {
     "cellMetadata": {},
     "inputWidgets": {},
     "nuid": "4408c78c-1870-45a1-a633-18640973bd7e",
     "showTitle": false,
     "title": ""
    }
   },
   "source": [
    "Spark provides special operations on RDDs containing key/value pairs. \n",
    "\n",
    "These RDDs are called *pair RDDs*. Pair RDDs are a useful building block in many programs, as they expose operations that allow you to act on each key in parallel or regroup data across the network. For example, pair RDDs have a **reduceByKey()** method that can aggregate data separately for each key, and a **join()** method that can merge two RDDs together by grouping elements with the same key. \n",
    "\n",
    "It is common to extract fields from an RDD (representing, for instance, an event time, customer ID, or other identifier) and use those fields as keys in pair RDD operations."
   ]
  },
  {
   "cell_type": "code",
   "execution_count": 0,
   "metadata": {
    "application/vnd.databricks.v1+cell": {
     "cellMetadata": {},
     "inputWidgets": {},
     "nuid": "83664983-22c5-48f9-bdbd-ae9922ffe8ad",
     "showTitle": false,
     "title": ""
    }
   },
   "outputs": [],
   "source": [
    "lines = sc.textFile('/FileStore/tables/Dante_Inferno.txt')\n",
    "lines = lines.map(lambda s: s.replace('\\x92',''))"
   ]
  },
  {
   "cell_type": "code",
   "execution_count": 0,
   "metadata": {
    "application/vnd.databricks.v1+cell": {
     "cellMetadata": {},
     "inputWidgets": {},
     "nuid": "165053f7-32e1-4328-94bf-c205156ffc68",
     "showTitle": false,
     "title": ""
    }
   },
   "outputs": [],
   "source": [
    "lines.count()"
   ]
  },
  {
   "cell_type": "markdown",
   "metadata": {
    "application/vnd.databricks.v1+cell": {
     "cellMetadata": {},
     "inputWidgets": {},
     "nuid": "8a45efbf-848d-4381-bd3d-94299b5dabc8",
     "showTitle": false,
     "title": ""
    }
   },
   "source": [
    "create a set of `<key,value>` pairs where the key is the length of the line"
   ]
  },
  {
   "cell_type": "code",
   "execution_count": 0,
   "metadata": {
    "application/vnd.databricks.v1+cell": {
     "cellMetadata": {},
     "inputWidgets": {},
     "nuid": "7870b724-2800-47d3-afd8-d02ee5349837",
     "showTitle": false,
     "title": ""
    }
   },
   "outputs": [],
   "source": [
    "linesWithLength = lines.map(lambda x: (len(x), x))\n",
    "linesWithLength"
   ]
  },
  {
   "cell_type": "code",
   "execution_count": 0,
   "metadata": {
    "application/vnd.databricks.v1+cell": {
     "cellMetadata": {},
     "inputWidgets": {},
     "nuid": "c843f3a2-6a34-455f-9f2b-b2d2ccea722e",
     "showTitle": false,
     "title": ""
    }
   },
   "outputs": [],
   "source": [
    "linesWithLength.take(10)"
   ]
  },
  {
   "cell_type": "code",
   "execution_count": 0,
   "metadata": {
    "application/vnd.databricks.v1+cell": {
     "cellMetadata": {},
     "inputWidgets": {},
     "nuid": "cbb022c6-9838-456c-8277-87aa15fc9d08",
     "showTitle": false,
     "title": ""
    },
    "scrolled": true
   },
   "outputs": [],
   "source": [
    "linesWithLength.sortByKey(ascending=False).take(10)"
   ]
  },
  {
   "cell_type": "markdown",
   "metadata": {
    "application/vnd.databricks.v1+cell": {
     "cellMetadata": {},
     "inputWidgets": {},
     "nuid": "d0395236-7e1f-4e2e-91b4-be7ea0745bb8",
     "showTitle": false,
     "title": ""
    }
   },
   "source": [
    "## exercise: compute the average length of the lines using the keys -- without built in stats functions"
   ]
  },
  {
   "cell_type": "code",
   "execution_count": 0,
   "metadata": {
    "application/vnd.databricks.v1+cell": {
     "cellMetadata": {},
     "inputWidgets": {},
     "nuid": "cc9f2e2c-7ef6-43ed-92b7-57ae68420246",
     "showTitle": false,
     "title": ""
    }
   },
   "outputs": [],
   "source": [
    "sumLength = linesWithLength.keys().reduce(lambda x,y: x+y)"
   ]
  },
  {
   "cell_type": "code",
   "execution_count": 0,
   "metadata": {
    "application/vnd.databricks.v1+cell": {
     "cellMetadata": {},
     "inputWidgets": {},
     "nuid": "920250dc-79bf-4236-8346-8606ef0bba48",
     "showTitle": false,
     "title": ""
    }
   },
   "outputs": [],
   "source": [
    "sumLength"
   ]
  },
  {
   "cell_type": "code",
   "execution_count": 0,
   "metadata": {
    "application/vnd.databricks.v1+cell": {
     "cellMetadata": {},
     "inputWidgets": {},
     "nuid": "8485473c-bf69-48b7-81c0-8ae59096078f",
     "showTitle": false,
     "title": ""
    }
   },
   "outputs": [],
   "source": [
    "avgLength = sumLength / float(linesWithLength.count())\n",
    "avgLength"
   ]
  },
  {
   "cell_type": "markdown",
   "metadata": {
    "application/vnd.databricks.v1+cell": {
     "cellMetadata": {},
     "inputWidgets": {},
     "nuid": "03529c59-8831-46b4-9670-36efbc84ba4c",
     "showTitle": false,
     "title": ""
    }
   },
   "source": [
    "select lines that are shorter than the average length"
   ]
  },
  {
   "cell_type": "code",
   "execution_count": 0,
   "metadata": {
    "application/vnd.databricks.v1+cell": {
     "cellMetadata": {},
     "inputWidgets": {},
     "nuid": "1364666d-5229-4cbd-adaf-6889a4097853",
     "showTitle": false,
     "title": ""
    }
   },
   "outputs": [],
   "source": [
    "shortLines = linesWithLength.filter(lambda pair: pair[0] < avgLength)"
   ]
  },
  {
   "cell_type": "code",
   "execution_count": 0,
   "metadata": {
    "application/vnd.databricks.v1+cell": {
     "cellMetadata": {},
     "inputWidgets": {},
     "nuid": "f86cad90-56f1-435c-92a4-71fb404dece5",
     "showTitle": false,
     "title": ""
    }
   },
   "outputs": [],
   "source": [
    "linesWithLength.count(),shortLines.count()"
   ]
  },
  {
   "cell_type": "markdown",
   "metadata": {
    "application/vnd.databricks.v1+cell": {
     "cellMetadata": {},
     "inputWidgets": {},
     "nuid": "89286674-6cd7-4ea1-a3e6-4e9158fbcd98",
     "showTitle": false,
     "title": ""
    }
   },
   "source": [
    "The canonical MapReduce **word count example**: computes <word, count> for each word in the document"
   ]
  },
  {
   "cell_type": "markdown",
   "metadata": {
    "application/vnd.databricks.v1+cell": {
     "cellMetadata": {},
     "inputWidgets": {},
     "nuid": "abbbfc6b-cee0-4172-825c-cf96cf05cc44",
     "showTitle": false,
     "title": ""
    }
   },
   "source": [
    "Split each line into words"
   ]
  },
  {
   "cell_type": "code",
   "execution_count": 0,
   "metadata": {
    "application/vnd.databricks.v1+cell": {
     "cellMetadata": {},
     "inputWidgets": {},
     "nuid": "82873fb2-0b04-418f-bf51-a35df49cf897",
     "showTitle": false,
     "title": ""
    }
   },
   "outputs": [],
   "source": [
    "words = lines.flatMap(lambda l: l.split(\" \"))"
   ]
  },
  {
   "cell_type": "markdown",
   "metadata": {
    "application/vnd.databricks.v1+cell": {
     "cellMetadata": {},
     "inputWidgets": {},
     "nuid": "e61f7d41-0b48-4381-ad18-f140221c5471",
     "showTitle": false,
     "title": ""
    }
   },
   "source": [
    "filter out noise (optional step)"
   ]
  },
  {
   "cell_type": "code",
   "execution_count": 0,
   "metadata": {
    "application/vnd.databricks.v1+cell": {
     "cellMetadata": {},
     "inputWidgets": {},
     "nuid": "729cf421-9bda-49a6-aa91-6195c1d8eac1",
     "showTitle": false,
     "title": ""
    }
   },
   "outputs": [],
   "source": [
    "filteredWords = words.filter(lambda x:  x != ''  and not x.startswith('\\\\') and len(x) > 5)"
   ]
  },
  {
   "cell_type": "markdown",
   "metadata": {
    "application/vnd.databricks.v1+cell": {
     "cellMetadata": {},
     "inputWidgets": {},
     "nuid": "5ecd945f-2d10-4e69-a86f-57445958b3fc",
     "showTitle": false,
     "title": ""
    }
   },
   "source": [
    "count words"
   ]
  },
  {
   "cell_type": "code",
   "execution_count": 0,
   "metadata": {
    "application/vnd.databricks.v1+cell": {
     "cellMetadata": {},
     "inputWidgets": {},
     "nuid": "a9fd3696-feb0-49c6-934e-7c893ab0aa65",
     "showTitle": false,
     "title": ""
    }
   },
   "outputs": [],
   "source": [
    "wordCount = filteredWords.map(lambda x: (x,1)).reduceByKey(lambda x, y: x+y)"
   ]
  },
  {
   "cell_type": "code",
   "execution_count": 0,
   "metadata": {
    "application/vnd.databricks.v1+cell": {
     "cellMetadata": {},
     "inputWidgets": {},
     "nuid": "a71a6526-08e2-4f16-9e24-989aa873a832",
     "showTitle": false,
     "title": ""
    }
   },
   "outputs": [],
   "source": [
    "wordCount.take(10)"
   ]
  },
  {
   "cell_type": "markdown",
   "metadata": {
    "application/vnd.databricks.v1+cell": {
     "cellMetadata": {},
     "inputWidgets": {},
     "nuid": "6859b8db-c5fb-465f-bc7c-e18af5aaf456",
     "showTitle": false,
     "title": ""
    }
   },
   "source": [
    "#### Some simple analytics on the wordCount RDD: list the top-10 most frequent words\n",
    "\n",
    "note that the pairs are not sorted by key, so we need to flip the pairs first, creating frequencyWordPairs"
   ]
  },
  {
   "cell_type": "code",
   "execution_count": 0,
   "metadata": {
    "application/vnd.databricks.v1+cell": {
     "cellMetadata": {},
     "inputWidgets": {},
     "nuid": "f07addc4-830f-494f-aad3-fd098fb9e409",
     "showTitle": false,
     "title": ""
    }
   },
   "outputs": [],
   "source": [
    "wordCount.sortBy(lambda x: x[1], ascending=False).take(5)"
   ]
  },
  {
   "cell_type": "code",
   "execution_count": 0,
   "metadata": {
    "application/vnd.databricks.v1+cell": {
     "cellMetadata": {},
     "inputWidgets": {},
     "nuid": "ec21af4d-6d31-4540-aecc-abfb9cfe807a",
     "showTitle": false,
     "title": ""
    }
   },
   "outputs": [],
   "source": [
    "frequencyWordPairs = wordCount.map(lambda x: (x[1],x[0]))\n",
    "frequencyWordPairs.take(10)"
   ]
  },
  {
   "cell_type": "code",
   "execution_count": 0,
   "metadata": {
    "application/vnd.databricks.v1+cell": {
     "cellMetadata": {},
     "inputWidgets": {},
     "nuid": "6bcc010a-63d9-4ab6-b173-814703039349",
     "showTitle": false,
     "title": ""
    }
   },
   "outputs": [],
   "source": [
    "frequencyWordPairs.sortByKey(ascending=False).take(10)"
   ]
  },
  {
   "cell_type": "markdown",
   "metadata": {
    "application/vnd.databricks.v1+cell": {
     "cellMetadata": {},
     "inputWidgets": {},
     "nuid": "49f3e981-17aa-45bd-84c3-87f50ac8d3cc",
     "showTitle": false,
     "title": ""
    }
   },
   "source": [
    "### exercise: group words into sets, words in each set have the same frequency: <frequency, [words]>\n",
    "\n",
    "we introduce a new grouping function:  **groupByKey()**"
   ]
  },
  {
   "cell_type": "code",
   "execution_count": 0,
   "metadata": {
    "application/vnd.databricks.v1+cell": {
     "cellMetadata": {},
     "inputWidgets": {},
     "nuid": "cd2d58c5-e9ad-4aaa-9224-1248abb5dc5b",
     "showTitle": false,
     "title": ""
    },
    "collapsed": true
   },
   "outputs": [],
   "source": []
  },
  {
   "cell_type": "code",
   "execution_count": 0,
   "metadata": {
    "application/vnd.databricks.v1+cell": {
     "cellMetadata": {},
     "inputWidgets": {},
     "nuid": "5a88e127-26a1-4549-9835-9b0a261b763f",
     "showTitle": false,
     "title": ""
    },
    "collapsed": true,
    "jupyter": {
     "outputs_hidden": true
    }
   },
   "outputs": [],
   "source": []
  },
  {
   "cell_type": "code",
   "execution_count": 0,
   "metadata": {
    "application/vnd.databricks.v1+cell": {
     "cellMetadata": {},
     "inputWidgets": {},
     "nuid": "78a347e2-cac8-4a39-960d-aec720974f4f",
     "showTitle": false,
     "title": ""
    },
    "collapsed": true,
    "jupyter": {
     "outputs_hidden": true
    }
   },
   "outputs": [],
   "source": []
  },
  {
   "cell_type": "code",
   "execution_count": 0,
   "metadata": {
    "application/vnd.databricks.v1+cell": {
     "cellMetadata": {},
     "inputWidgets": {},
     "nuid": "32ea8b4b-13b9-4ab3-b780-f75524009583",
     "showTitle": false,
     "title": ""
    },
    "collapsed": true,
    "jupyter": {
     "outputs_hidden": true
    }
   },
   "outputs": [],
   "source": []
  },
  {
   "cell_type": "code",
   "execution_count": 0,
   "metadata": {
    "application/vnd.databricks.v1+cell": {
     "cellMetadata": {},
     "inputWidgets": {},
     "nuid": "3056a679-7cc2-42a8-b342-371678c8b948",
     "showTitle": false,
     "title": ""
    },
    "collapsed": true,
    "jupyter": {
     "outputs_hidden": true
    }
   },
   "outputs": [],
   "source": []
  },
  {
   "cell_type": "code",
   "execution_count": 0,
   "metadata": {
    "application/vnd.databricks.v1+cell": {
     "cellMetadata": {},
     "inputWidgets": {},
     "nuid": "7f8739e2-ef25-44ad-bc75-dce4bd8603a4",
     "showTitle": false,
     "title": ""
    },
    "collapsed": true,
    "jupyter": {
     "outputs_hidden": true
    }
   },
   "outputs": [],
   "source": []
  },
  {
   "cell_type": "code",
   "execution_count": 0,
   "metadata": {
    "application/vnd.databricks.v1+cell": {
     "cellMetadata": {},
     "inputWidgets": {},
     "nuid": "329de4d7-93b9-4da2-8030-d20619664bfe",
     "showTitle": false,
     "title": ""
    },
    "collapsed": true,
    "jupyter": {
     "outputs_hidden": true
    }
   },
   "outputs": [],
   "source": []
  },
  {
   "cell_type": "code",
   "execution_count": 0,
   "metadata": {
    "application/vnd.databricks.v1+cell": {
     "cellMetadata": {},
     "inputWidgets": {},
     "nuid": "6b4ebd8d-84b6-4d49-8ff9-4d08c62c9cfb",
     "showTitle": false,
     "title": ""
    },
    "collapsed": true,
    "jupyter": {
     "outputs_hidden": true
    }
   },
   "outputs": [],
   "source": []
  },
  {
   "cell_type": "code",
   "execution_count": 0,
   "metadata": {
    "application/vnd.databricks.v1+cell": {
     "cellMetadata": {},
     "inputWidgets": {},
     "nuid": "adb0d103-3121-41ac-aafa-c40635d659d9",
     "showTitle": false,
     "title": ""
    },
    "collapsed": true,
    "jupyter": {
     "outputs_hidden": true
    }
   },
   "outputs": [],
   "source": []
  },
  {
   "cell_type": "code",
   "execution_count": 0,
   "metadata": {
    "application/vnd.databricks.v1+cell": {
     "cellMetadata": {},
     "inputWidgets": {},
     "nuid": "8a701179-4a55-4584-8075-4d3b6594248d",
     "showTitle": false,
     "title": ""
    },
    "collapsed": true,
    "jupyter": {
     "outputs_hidden": true
    }
   },
   "outputs": [],
   "source": []
  },
  {
   "cell_type": "code",
   "execution_count": 0,
   "metadata": {
    "application/vnd.databricks.v1+cell": {
     "cellMetadata": {},
     "inputWidgets": {},
     "nuid": "288f4e13-c40d-493f-a7db-75fa85ab0821",
     "showTitle": false,
     "title": ""
    },
    "collapsed": true,
    "jupyter": {
     "outputs_hidden": true
    }
   },
   "outputs": [],
   "source": []
  },
  {
   "cell_type": "code",
   "execution_count": 0,
   "metadata": {
    "application/vnd.databricks.v1+cell": {
     "cellMetadata": {},
     "inputWidgets": {},
     "nuid": "dcbd1deb-50ee-4a01-825e-5c62e4f6aad1",
     "showTitle": false,
     "title": ""
    },
    "collapsed": true,
    "jupyter": {
     "outputs_hidden": true
    }
   },
   "outputs": [],
   "source": []
  },
  {
   "cell_type": "code",
   "execution_count": 0,
   "metadata": {
    "application/vnd.databricks.v1+cell": {
     "cellMetadata": {},
     "inputWidgets": {},
     "nuid": "1d7ad5bf-1397-4d6e-b5a1-641184972feb",
     "showTitle": false,
     "title": ""
    },
    "collapsed": true,
    "jupyter": {
     "outputs_hidden": true
    }
   },
   "outputs": [],
   "source": []
  },
  {
   "cell_type": "code",
   "execution_count": 0,
   "metadata": {
    "application/vnd.databricks.v1+cell": {
     "cellMetadata": {},
     "inputWidgets": {},
     "nuid": "961a5c1b-725a-4899-b716-caa55a4caee6",
     "showTitle": false,
     "title": ""
    },
    "collapsed": true,
    "jupyter": {
     "outputs_hidden": true
    }
   },
   "outputs": [],
   "source": []
  },
  {
   "cell_type": "code",
   "execution_count": 0,
   "metadata": {
    "application/vnd.databricks.v1+cell": {
     "cellMetadata": {},
     "inputWidgets": {},
     "nuid": "2f1161fb-6f88-4abd-963d-25e7defec51d",
     "showTitle": false,
     "title": ""
    }
   },
   "outputs": [],
   "source": [
    "sameFrequencyGroups = frequencyWordPairs.groupByKey()\n",
    "sameFrequencyGroups"
   ]
  },
  {
   "cell_type": "code",
   "execution_count": 0,
   "metadata": {
    "application/vnd.databricks.v1+cell": {
     "cellMetadata": {},
     "inputWidgets": {},
     "nuid": "5cd75842-f221-4095-981e-ddf3ce45d249",
     "showTitle": false,
     "title": ""
    }
   },
   "outputs": [],
   "source": [
    "sameFrequencyGroups.sortByKey(ascending=False)"
   ]
  },
  {
   "cell_type": "code",
   "execution_count": 0,
   "metadata": {
    "application/vnd.databricks.v1+cell": {
     "cellMetadata": {},
     "inputWidgets": {},
     "nuid": "7cf1790f-bb7a-4863-a493-a5f0e8665df8",
     "showTitle": false,
     "title": ""
    }
   },
   "outputs": [],
   "source": [
    "sameFrequencyGroups.take(3)"
   ]
  },
  {
   "cell_type": "markdown",
   "metadata": {
    "application/vnd.databricks.v1+cell": {
     "cellMetadata": {},
     "inputWidgets": {},
     "nuid": "7f321048-c933-483a-af26-55edff8be507",
     "showTitle": false,
     "title": ""
    }
   },
   "source": [
    "suppose we are only interested in groups with more than one element"
   ]
  },
  {
   "cell_type": "code",
   "execution_count": 0,
   "metadata": {
    "application/vnd.databricks.v1+cell": {
     "cellMetadata": {},
     "inputWidgets": {},
     "nuid": "dc661a78-3f7e-4f06-b8dd-841c92b85859",
     "showTitle": false,
     "title": ""
    }
   },
   "outputs": [],
   "source": [
    "nonSingletonGroups = sameFrequencyGroups.filter(lambda x: len(x[1])>1)"
   ]
  },
  {
   "cell_type": "code",
   "execution_count": 0,
   "metadata": {
    "application/vnd.databricks.v1+cell": {
     "cellMetadata": {},
     "inputWidgets": {},
     "nuid": "70640dd8-8747-4209-9359-21b87d16905b",
     "showTitle": false,
     "title": ""
    }
   },
   "outputs": [],
   "source": [
    "for (f,l) in nonSingletonGroups.take(7):\n",
    "    print(\"words with frequency \",f)\n",
    "    for w in l:\n",
    "        print(w)"
   ]
  },
  {
   "cell_type": "markdown",
   "metadata": {
    "application/vnd.databricks.v1+cell": {
     "cellMetadata": {},
     "inputWidgets": {},
     "nuid": "df87c1e3-2c7b-4c11-aaa3-d92735ecc815",
     "showTitle": false,
     "title": ""
    }
   },
   "source": [
    "**Exercise**: create a set of words for each frequency value, using **combineByKey()** in combination with the frequencyWordPairs RDD"
   ]
  },
  {
   "cell_type": "markdown",
   "metadata": {
    "application/vnd.databricks.v1+cell": {
     "cellMetadata": {},
     "inputWidgets": {},
     "nuid": "36892378-89d2-4058-a737-bbbac197891f",
     "showTitle": false,
     "title": ""
    }
   },
   "source": [
    "### Joins"
   ]
  },
  {
   "cell_type": "markdown",
   "metadata": {
    "application/vnd.databricks.v1+cell": {
     "cellMetadata": {},
     "inputWidgets": {},
     "nuid": "29f39380-7894-4e25-b5d5-486a595cb587",
     "showTitle": false,
     "title": ""
    }
   },
   "source": [
    "Example: (id, age) join (id, salary) using id as key:"
   ]
  },
  {
   "cell_type": "code",
   "execution_count": 0,
   "metadata": {
    "application/vnd.databricks.v1+cell": {
     "cellMetadata": {},
     "inputWidgets": {},
     "nuid": "dd8614f1-5b53-4ce3-a0d6-e6b169282983",
     "showTitle": false,
     "title": ""
    }
   },
   "outputs": [],
   "source": [
    "idAge = sc.parallelize([(1,20), (2,25), (3,40), (4,45), (3,50)])\n",
    "idIncome = sc.parallelize([(1,10000), (2,30000), (3,40000)])"
   ]
  },
  {
   "cell_type": "markdown",
   "metadata": {
    "application/vnd.databricks.v1+cell": {
     "cellMetadata": {},
     "inputWidgets": {},
     "nuid": "4e0f73a9-fc6b-4bad-a5a2-309ac4413c53",
     "showTitle": false,
     "title": ""
    }
   },
   "source": [
    "1. full join. note that this leaves out id=4  (why??)"
   ]
  },
  {
   "cell_type": "code",
   "execution_count": 0,
   "metadata": {
    "application/vnd.databricks.v1+cell": {
     "cellMetadata": {},
     "inputWidgets": {},
     "nuid": "e4628772-3280-4e41-9169-7c302182ab9a",
     "showTitle": false,
     "title": ""
    }
   },
   "outputs": [],
   "source": [
    "idAge.join(idIncome).collect()"
   ]
  },
  {
   "cell_type": "markdown",
   "metadata": {
    "application/vnd.databricks.v1+cell": {
     "cellMetadata": {},
     "inputWidgets": {},
     "nuid": "637b2620-407c-4058-be0c-a0d810f63318",
     "showTitle": false,
     "title": ""
    }
   },
   "source": [
    "outer join -- includes id = 4"
   ]
  },
  {
   "cell_type": "code",
   "execution_count": 0,
   "metadata": {
    "application/vnd.databricks.v1+cell": {
     "cellMetadata": {},
     "inputWidgets": {},
     "nuid": "e68af29d-c3b7-43ad-aaa3-868ac2715711",
     "showTitle": false,
     "title": ""
    }
   },
   "outputs": [],
   "source": [
    "idAge.leftOuterJoin(idIncome).collect()"
   ]
  },
  {
   "cell_type": "code",
   "execution_count": 0,
   "metadata": {
    "application/vnd.databricks.v1+cell": {
     "cellMetadata": {},
     "inputWidgets": {},
     "nuid": "67dee44f-9f91-4e3b-99b3-e8112cf14755",
     "showTitle": false,
     "title": ""
    }
   },
   "outputs": [],
   "source": []
  }
 ],
 "metadata": {
  "application/vnd.databricks.v1+notebook": {
   "dashboards": [],
   "environmentMetadata": null,
   "language": "python",
   "notebookMetadata": {
    "pythonIndentUnit": 4
   },
   "notebookName": "3-Spark-key-value-pairs",
   "widgets": {}
  },
  "kernelspec": {
   "display_name": "Python 3",
   "language": "python",
   "name": "python3"
  },
  "language_info": {
   "codemirror_mode": {
    "name": "ipython",
    "version": 3
   },
   "file_extension": ".py",
   "mimetype": "text/x-python",
   "name": "python",
   "nbconvert_exporter": "python",
   "pygments_lexer": "ipython3",
   "version": "3.8.3"
  }
 },
 "nbformat": 4,
 "nbformat_minor": 0
}
