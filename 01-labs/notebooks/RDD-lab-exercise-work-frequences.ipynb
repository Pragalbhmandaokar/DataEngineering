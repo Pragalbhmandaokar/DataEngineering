{
 "cells": [
  {
   "cell_type": "markdown",
   "metadata": {
    "application/vnd.databricks.v1+cell": {
     "cellMetadata": {},
     "inputWidgets": {},
     "nuid": "9aac4e12-d0e4-4345-9782-1e8a8f59f584",
     "showTitle": false,
     "title": ""
    }
   },
   "source": [
    "### RDD exercise:\n",
    "\n",
    "- list the top-10 most frequent words in the \"Inferno\" document\n",
    "- find the average number of occurrences of each word in \"Inferno\"\n",
    "- list 10 words that occur more frequently than the average (try this on your own!)"
   ]
  },
  {
   "cell_type": "markdown",
   "metadata": {
    "application/vnd.databricks.v1+cell": {
     "cellMetadata": {},
     "inputWidgets": {},
     "nuid": "376bb206-3efa-4fa0-abdc-38c81a8f634d",
     "showTitle": false,
     "title": ""
    }
   },
   "source": [
    "#### load text file -- this creates an RDD consisting of strings, one for each line of text\n",
    "\n",
    "doc: [textFile()](https://spark.apache.org/docs/latest/api/python/reference/api/pyspark.SparkContext.textFile.html?highlight=textfile#pyspark.SparkContext.textFile)"
   ]
  },
  {
   "cell_type": "code",
   "execution_count": 0,
   "metadata": {
    "application/vnd.databricks.v1+cell": {
     "cellMetadata": {},
     "inputWidgets": {},
     "nuid": "b26b8b8e-2c30-4fa8-bc63-2d17c31d0b73",
     "showTitle": false,
     "title": ""
    }
   },
   "outputs": [],
   "source": [
    "lines = sc.textFile('/FileStore/tables/Dante_Inferno.txt')\n"
   ]
  },
  {
   "cell_type": "markdown",
   "metadata": {
    "application/vnd.databricks.v1+cell": {
     "cellMetadata": {},
     "inputWidgets": {},
     "nuid": "3cb00b7a-d7b7-405c-ac7e-b2c5941168a0",
     "showTitle": false,
     "title": ""
    }
   },
   "source": [
    "#### split each line into words. \n",
    "\n",
    "each worker will operate on a batch of input lines. The workers would run in parallel\n",
    "\n",
    "doc:\n",
    "- [map()](https://spark.apache.org/docs/latest/api/python/reference/api/pyspark.RDD.map.html?highlight=rdd%20map#pyspark.RDD.map)\n",
    "- [flatMap()](https://spark.apache.org/docs/latest/api/python/reference/api/pyspark.RDD.flatMap.html?highlight=rdd%20flatmap#pyspark.RDD.flatMap)"
   ]
  },
  {
   "cell_type": "code",
   "execution_count": 0,
   "metadata": {
    "application/vnd.databricks.v1+cell": {
     "cellMetadata": {},
     "inputWidgets": {},
     "nuid": "10037d52-b3e5-48ff-bfc8-302ad1390d2e",
     "showTitle": false,
     "title": ""
    }
   },
   "outputs": [],
   "source": [
    "words = lines.flatMap(lambda l: l.split(\" \"))\n"
   ]
  },
  {
   "cell_type": "code",
   "execution_count": 0,
   "metadata": {
    "application/vnd.databricks.v1+cell": {
     "cellMetadata": {},
     "inputWidgets": {},
     "nuid": "1227cf8b-2b3a-423f-a251-9a5a94d84095",
     "showTitle": false,
     "title": ""
    }
   },
   "outputs": [],
   "source": [
    "## show a few lines\n",
    "words.take(20)"
   ]
  },
  {
   "cell_type": "markdown",
   "metadata": {
    "application/vnd.databricks.v1+cell": {
     "cellMetadata": {},
     "inputWidgets": {},
     "nuid": "0337d7c1-bc93-4175-9a57-1f6b31a99abd",
     "showTitle": false,
     "title": ""
    }
   },
   "source": [
    "#### remove blank and short tokens\n",
    "\n",
    "doc: [filter()](https://spark.apache.org/docs/latest/api/python/reference/api/pyspark.RDD.filter.html?highlight=rdd%20filter#pyspark.RDD.filter)"
   ]
  },
  {
   "cell_type": "code",
   "execution_count": 0,
   "metadata": {
    "application/vnd.databricks.v1+cell": {
     "cellMetadata": {},
     "inputWidgets": {},
     "nuid": "98dec387-c8ff-4173-8365-1cc459760af1",
     "showTitle": false,
     "title": ""
    }
   },
   "outputs": [],
   "source": [
    "filteredWords = words.filter(lambda x:  len(x) > 5)"
   ]
  },
  {
   "cell_type": "code",
   "execution_count": 0,
   "metadata": {
    "application/vnd.databricks.v1+cell": {
     "cellMetadata": {},
     "inputWidgets": {},
     "nuid": "29ddb99e-a93d-4098-aaf9-a167c318c2f1",
     "showTitle": false,
     "title": ""
    }
   },
   "outputs": [],
   "source": [
    "## show a few lines\n",
    "filteredWords.take(20)"
   ]
  },
  {
   "cell_type": "markdown",
   "metadata": {
    "application/vnd.databricks.v1+cell": {
     "cellMetadata": {},
     "inputWidgets": {},
     "nuid": "13e93bea-c9f1-4fb3-9338-48113e7efdc5",
     "showTitle": false,
     "title": ""
    }
   },
   "source": [
    "#### count number of occurrences of each word\n",
    "\n",
    "this is the `word count` example\n",
    "\n",
    "doc: [reduceByKey()](https://spark.apache.org/docs/latest/api/python/reference/api/pyspark.RDD.reduceByKey.html?highlight=reducebykey#pyspark.RDD.reduceByKey)"
   ]
  },
  {
   "cell_type": "code",
   "execution_count": 0,
   "metadata": {
    "application/vnd.databricks.v1+cell": {
     "cellMetadata": {},
     "inputWidgets": {},
     "nuid": "75484ccf-bcda-4b79-8ad6-e1714c10b951",
     "showTitle": false,
     "title": ""
    }
   },
   "outputs": [],
   "source": [
    "wordCount = filteredWords.map(lambda x: (x,1)).reduceByKey(lambda x, y: x+y)"
   ]
  },
  {
   "cell_type": "code",
   "execution_count": 0,
   "metadata": {
    "application/vnd.databricks.v1+cell": {
     "cellMetadata": {},
     "inputWidgets": {},
     "nuid": "04c06218-1c8a-4077-831d-e2b9d56eb199",
     "showTitle": false,
     "title": ""
    }
   },
   "outputs": [],
   "source": [
    "## show a few results\n",
    "wordCount.take(20)"
   ]
  },
  {
   "cell_type": "markdown",
   "metadata": {
    "application/vnd.databricks.v1+cell": {
     "cellMetadata": {},
     "inputWidgets": {},
     "nuid": "c33aa5bf-c0b6-4d70-a72b-7f6384193ead",
     "showTitle": false,
     "title": ""
    }
   },
   "source": [
    "#### list the top-10 most frequent words\n",
    "\n",
    "we need to sort each pair by frequency. \n",
    "\n",
    "we use [sortBy()](https://spark.apache.org/docs/latest/api/python/reference/api/pyspark.RDD.sortBy.html?highlight=sortby) and specify that the sort element is the second in the pair:\n",
    "\n",
    "- x[0] first element\n",
    "- x[1] second element"
   ]
  },
  {
   "cell_type": "code",
   "execution_count": 0,
   "metadata": {
    "application/vnd.databricks.v1+cell": {
     "cellMetadata": {},
     "inputWidgets": {},
     "nuid": "9dbc2e6f-dafa-4492-85e0-15d6d73d5a69",
     "showTitle": false,
     "title": ""
    }
   },
   "outputs": [],
   "source": [
    "wordCount.sortBy(lambda x: x[1], ascending=False).take(10)"
   ]
  },
  {
   "cell_type": "markdown",
   "metadata": {
    "application/vnd.databricks.v1+cell": {
     "cellMetadata": {},
     "inputWidgets": {},
     "nuid": "0b566501-e0f8-453e-9441-85624e8fc753",
     "showTitle": false,
     "title": ""
    }
   },
   "source": [
    "#### calculate the average number of occurrences of each word"
   ]
  },
  {
   "cell_type": "code",
   "execution_count": 0,
   "metadata": {
    "application/vnd.databricks.v1+cell": {
     "cellMetadata": {},
     "inputWidgets": {},
     "nuid": "1375cc53-0f14-46db-818b-82c3c5866092",
     "showTitle": false,
     "title": ""
    }
   },
   "outputs": [],
   "source": [
    "occurrences =  wordCount.map(lambda x: x[1])\n",
    "occurrences.take(10)"
   ]
  },
  {
   "cell_type": "code",
   "execution_count": 0,
   "metadata": {
    "application/vnd.databricks.v1+cell": {
     "cellMetadata": {},
     "inputWidgets": {},
     "nuid": "3946ce0d-6400-4545-b9d7-4e0c0290ec83",
     "showTitle": false,
     "title": ""
    }
   },
   "outputs": [],
   "source": [
    "totalOccurrences = occurrences.reduce(lambda x, y: x+y)\n",
    "totalOccurrences"
   ]
  },
  {
   "cell_type": "code",
   "execution_count": 0,
   "metadata": {
    "application/vnd.databricks.v1+cell": {
     "cellMetadata": {},
     "inputWidgets": {},
     "nuid": "c3d1f63f-bb2e-4b2a-a1e0-55d73a5e11c0",
     "showTitle": false,
     "title": ""
    }
   },
   "outputs": [],
   "source": [
    "averageOccurrences =  totalOccurrences / occurrences.count()"
   ]
  },
  {
   "cell_type": "code",
   "execution_count": 0,
   "metadata": {
    "application/vnd.databricks.v1+cell": {
     "cellMetadata": {},
     "inputWidgets": {},
     "nuid": "6872f50c-3b3e-49ea-a0a8-f9b35372f673",
     "showTitle": false,
     "title": ""
    }
   },
   "outputs": [],
   "source": [
    "averageOccurrences"
   ]
  },
  {
   "cell_type": "code",
   "execution_count": 0,
   "metadata": {
    "application/vnd.databricks.v1+cell": {
     "cellMetadata": {},
     "inputWidgets": {},
     "nuid": "8c9ee907-8598-4eb1-9ca0-3eb4a96c0823",
     "showTitle": false,
     "title": ""
    }
   },
   "outputs": [],
   "source": []
  }
 ],
 "metadata": {
  "application/vnd.databricks.v1+notebook": {
   "dashboards": [],
   "environmentMetadata": null,
   "language": "python",
   "notebookMetadata": {
    "pythonIndentUnit": 4
   },
   "notebookName": "RDD-lab-exercise-work-frequences",
   "widgets": {}
  }
 },
 "nbformat": 4,
 "nbformat_minor": 0
}
