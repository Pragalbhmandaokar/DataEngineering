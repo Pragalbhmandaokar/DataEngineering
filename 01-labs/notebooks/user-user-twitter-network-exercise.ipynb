{
 "cells": [
  {
   "cell_type": "markdown",
   "metadata": {
    "application/vnd.databricks.v1+cell": {
     "cellMetadata": {},
     "inputWidgets": {},
     "nuid": "115dbac1-0b4f-48ba-9de7-8c777b35b6fe",
     "showTitle": false,
     "title": ""
    }
   },
   "source": [
    "## Exercise: analyse a (small) Twitter user-user network\n",
    "\n",
    "you are given a text file containing data about Twitter users and their relationship in the context of some online campaign, here is an example entry:\n",
    "\n",
    "`dry-january-2018, kellyld77 , DrinkTg, 1`\n",
    "\n",
    "here `dry-january-2018` is a context (a social campaign), `kellyld77 and `DrinkTg` are two users, and `1` denotes the \"strength\" of their online interaction within the context.\n",
    "\n",
    "your tasks are as follows:\n",
    "### Part I \n",
    "\n",
    " - find the top 3 contexts that have the highest number of records\n",
    " - for the top context, calculate the total weight associated with each outgoing edge for that context\n",
    " \n",
    "### Part II\n",
    "\n",
    "You are now given a second version of the dataset, this time with a header that can be used to load a DataFrame with its schema:\n",
    "\n",
    "`context:string, from:string, to:string, weight:integer`\n",
    "\n",
    "program the same tasks using the DataFrame API\n",
    "\n",
    "### Part III\n",
    "\n",
    "program the same tasks using the SQL API, using the same the dataset as Part II"
   ]
  },
  {
   "cell_type": "code",
   "execution_count": 0,
   "metadata": {
    "application/vnd.databricks.v1+cell": {
     "cellMetadata": {},
     "inputWidgets": {},
     "nuid": "8d501c01-466c-43aa-868f-b3ea26b07ef9",
     "showTitle": false,
     "title": ""
    }
   },
   "outputs": [],
   "source": [
    "uuRDD = sc.textFile('/FileStore/tables/uu_noheader.txt')\n",
    "\n",
    "uuRDD.take(5)"
   ]
  },
  {
   "cell_type": "markdown",
   "metadata": {
    "application/vnd.databricks.v1+cell": {
     "cellMetadata": {},
     "inputWidgets": {},
     "nuid": "ac51cdd7-45d4-4407-a727-7f2483f9deed",
     "showTitle": false,
     "title": ""
    }
   },
   "source": [
    "## Part I"
   ]
  },
  {
   "cell_type": "code",
   "execution_count": 0,
   "metadata": {
    "application/vnd.databricks.v1+cell": {
     "cellMetadata": {},
     "inputWidgets": {},
     "nuid": "629a9fc2-bb7b-43b2-b6a9-3e4e04f156ec",
     "showTitle": false,
     "title": ""
    }
   },
   "outputs": [],
   "source": [
    "## tokenise each string in `uuRDD`\n",
    "\n",
    "#####################\n",
    "#### YOUR CODE HERE \n",
    "#####################\n",
    "\n",
    "## uu_tokens = \n",
    "## see what we have done\n",
    "\n",
    "uu_tokens.take(5)"
   ]
  },
  {
   "cell_type": "markdown",
   "metadata": {
    "application/vnd.databricks.v1+cell": {
     "cellMetadata": {},
     "inputWidgets": {},
     "nuid": "c31f9841-67b7-420f-a23c-d35060adc9ad",
     "showTitle": false,
     "title": ""
    }
   },
   "source": [
    "### Task 1\n",
    "find the top 3 contexts that have the highest number of records"
   ]
  },
  {
   "cell_type": "code",
   "execution_count": 0,
   "metadata": {
    "application/vnd.databricks.v1+cell": {
     "cellMetadata": {},
     "inputWidgets": {},
     "nuid": "13205d77-389a-4698-ab04-447f93c358b7",
     "showTitle": false,
     "title": ""
    }
   },
   "outputs": [],
   "source": [
    "## all we need is the first element of each list, and we just use the \"wordCount\" pattern to count the number of occurrences\n",
    "\n",
    "#####################\n",
    "#### YOUR CODE HERE \n",
    "#####################\n",
    "  \n",
    " ## contexts = ...\n",
    "\n",
    "## see what we have done\n",
    "## contexts.take(5)"
   ]
  },
  {
   "cell_type": "code",
   "execution_count": 0,
   "metadata": {
    "application/vnd.databricks.v1+cell": {
     "cellMetadata": {},
     "inputWidgets": {},
     "nuid": "b24bf998-a3a3-4f34-889f-f7e7cf3de209",
     "showTitle": false,
     "title": ""
    }
   },
   "outputs": [],
   "source": [
    "## here is wordcount to count the number of times each context occurs:\n",
    "\n",
    "#####################\n",
    "#### YOUR CODE HERE \n",
    "#####################\n",
    "\n",
    "context_occurrences = ### \n",
    "\n",
    "top_5_contexts = ### \n",
    "\n",
    "top_5_contexts"
   ]
  },
  {
   "cell_type": "markdown",
   "metadata": {
    "application/vnd.databricks.v1+cell": {
     "cellMetadata": {},
     "inputWidgets": {},
     "nuid": "fc3952ba-5561-44d8-b2a1-514897f1a485",
     "showTitle": false,
     "title": ""
    }
   },
   "source": [
    "### Task 2\n",
    "\n",
    "for the top context, calculate the total weight associated with each outgoing edge for that context\n",
    "\n",
    "ex \n",
    "`'wear-purple-for-jia-2018,foomooboo,Ed_Miliband,1',\n",
    " 'dry-january-2018,kellyld77,DrinkTg,1',`\n",
    " \n",
    " the edges are `foomooboo --> Ed_Miliband` and `kellyld77 --> DrinkTg`"
   ]
  },
  {
   "cell_type": "code",
   "execution_count": 0,
   "metadata": {
    "application/vnd.databricks.v1+cell": {
     "cellMetadata": {},
     "inputWidgets": {},
     "nuid": "c7dd74db-1405-4c2f-97e1-327c7fb0f1a3",
     "showTitle": false,
     "title": ""
    }
   },
   "outputs": [],
   "source": [
    "## the idea is to use a pair (from,to) to represent an edge. Thus we use this pair as the key in the key value pair"
   ]
  },
  {
   "cell_type": "code",
   "execution_count": 0,
   "metadata": {
    "application/vnd.databricks.v1+cell": {
     "cellMetadata": {},
     "inputWidgets": {},
     "nuid": "5ea28ce5-188e-4e29-bfba-9a3a3b4d4fa8",
     "showTitle": false,
     "title": ""
    }
   },
   "outputs": [],
   "source": [
    "\n",
    "## we select  the records for the top context, then we create edges as pairs (key), and add the weight as value\n",
    "\n",
    "\n",
    "#####################\n",
    "#### YOUR CODE HERE \n",
    "#####################\n",
    "\n",
    "\n",
    "\n",
    "edge_weights = ### \n",
    "\n",
    "edge_weights.take(5)"
   ]
  },
  {
   "cell_type": "code",
   "execution_count": 0,
   "metadata": {
    "application/vnd.databricks.v1+cell": {
     "cellMetadata": {},
     "inputWidgets": {},
     "nuid": "158f8a64-7423-4539-bc03-98afe03dd1e4",
     "showTitle": false,
     "title": ""
    }
   },
   "outputs": [],
   "source": [
    "\n",
    "## next we reduceByKey() to add up all the weights\n",
    "\n",
    "#####################\n",
    "#### YOUR CODE HERE \n",
    "#####################\n",
    "\n",
    "total_edge_weights = ### \n",
    "\n",
    "## show the result \n",
    "total_edge_weights.collect()"
   ]
  },
  {
   "cell_type": "markdown",
   "metadata": {
    "application/vnd.databricks.v1+cell": {
     "cellMetadata": {},
     "inputWidgets": {},
     "nuid": "1ea0be2c-a70b-4047-b6f2-474dae9f6037",
     "showTitle": false,
     "title": ""
    }
   },
   "source": [
    "## Part  II\n",
    "we can achieve the same result more easily, using the DataFrame API:"
   ]
  },
  {
   "cell_type": "code",
   "execution_count": 0,
   "metadata": {
    "application/vnd.databricks.v1+cell": {
     "cellMetadata": {},
     "inputWidgets": {},
     "nuid": "e5bc492b-b51e-4b29-9b3d-8da9b4b7fc78",
     "showTitle": false,
     "title": ""
    }
   },
   "outputs": [],
   "source": [
    "from pyspark.sql.types import IntegerType\n",
    "\n",
    "## load the uu.txt raw file as RDD\n",
    "\n",
    "uuDF = spark.read.csv('/FileStore/tables/uu.csv', header=True)\n",
    "\n",
    "uuDF = uuDF.withColumn(\"weight\",uuDF.weight.cast(IntegerType()))\n"
   ]
  },
  {
   "cell_type": "markdown",
   "metadata": {
    "application/vnd.databricks.v1+cell": {
     "cellMetadata": {},
     "inputWidgets": {},
     "nuid": "ff479bd2-3116-40e8-a3d6-3d4f9b14968c",
     "showTitle": false,
     "title": ""
    }
   },
   "source": [
    "### Task 1"
   ]
  },
  {
   "cell_type": "code",
   "execution_count": 0,
   "metadata": {
    "application/vnd.databricks.v1+cell": {
     "cellMetadata": {},
     "inputWidgets": {},
     "nuid": "d4f75b3b-7542-4124-8bc5-c3c8c1c9836b",
     "showTitle": false,
     "title": ""
    }
   },
   "outputs": [],
   "source": [
    "# top 5 contexts:\n",
    "\n",
    "#####################\n",
    "#### YOUR CODE HERE \n",
    "#####################\n",
    "\n"
   ]
  },
  {
   "cell_type": "markdown",
   "metadata": {
    "application/vnd.databricks.v1+cell": {
     "cellMetadata": {},
     "inputWidgets": {},
     "nuid": "b9b573ba-82ce-4a86-ae26-747c49460904",
     "showTitle": false,
     "title": ""
    }
   },
   "source": [
    "### Task 2\n",
    "\n",
    "for the top context, calculate the total weight associated with each edge for that context\n",
    "\n",
    "using DataFrames"
   ]
  },
  {
   "cell_type": "code",
   "execution_count": 0,
   "metadata": {
    "application/vnd.databricks.v1+cell": {
     "cellMetadata": {},
     "inputWidgets": {},
     "nuid": "c627ee8d-51a6-46d1-8a89-9cebab4e7ad2",
     "showTitle": false,
     "title": ""
    }
   },
   "outputs": [],
   "source": [
    "#####################\n",
    "#### YOUR CODE HERE \n",
    "#####################\n",
    "\n",
    "use the same constant string `'16-days-of-action-2018'` \n",
    "\n"
   ]
  },
  {
   "cell_type": "markdown",
   "metadata": {
    "application/vnd.databricks.v1+cell": {
     "cellMetadata": {},
     "inputWidgets": {},
     "nuid": "2e05dfb7-dd82-4db8-9dbe-146c0dfb638f",
     "showTitle": false,
     "title": ""
    }
   },
   "source": [
    "## Part III\n",
    "\n",
    "finally, we can achieve the same goal using the SQL API"
   ]
  },
  {
   "cell_type": "code",
   "execution_count": 0,
   "metadata": {
    "application/vnd.databricks.v1+cell": {
     "cellMetadata": {},
     "inputWidgets": {},
     "nuid": "bc96104e-187d-48d2-906c-8743e2cc5013",
     "showTitle": false,
     "title": ""
    }
   },
   "outputs": [],
   "source": [
    "uuDF.createOrReplaceTempView('uu')"
   ]
  },
  {
   "cell_type": "markdown",
   "metadata": {
    "application/vnd.databricks.v1+cell": {
     "cellMetadata": {},
     "inputWidgets": {},
     "nuid": "64535106-1e2d-4402-b4a7-3c647279c3c8",
     "showTitle": false,
     "title": ""
    }
   },
   "source": [
    "### Part I"
   ]
  },
  {
   "cell_type": "code",
   "execution_count": 0,
   "metadata": {
    "application/vnd.databricks.v1+cell": {
     "cellMetadata": {},
     "inputWidgets": {},
     "nuid": "be32fefb-53f7-44fd-8f3c-577cb05fe41f",
     "showTitle": false,
     "title": ""
    }
   },
   "outputs": [],
   "source": [
    "## top contexts:\n",
    "\n",
    "#####################\n",
    "#### YOUR CODE HERE \n",
    "#####################\n"
   ]
  },
  {
   "cell_type": "markdown",
   "metadata": {
    "application/vnd.databricks.v1+cell": {
     "cellMetadata": {},
     "inputWidgets": {},
     "nuid": "c94fb9d5-fdf0-4e23-bc30-22399aad1657",
     "showTitle": false,
     "title": ""
    }
   },
   "source": [
    "### Part 2"
   ]
  },
  {
   "cell_type": "code",
   "execution_count": 0,
   "metadata": {
    "application/vnd.databricks.v1+cell": {
     "cellMetadata": {},
     "inputWidgets": {},
     "nuid": "2b529847-660b-4257-a0df-1720d46ef9ac",
     "showTitle": false,
     "title": ""
    }
   },
   "outputs": [],
   "source": [
    "## total weights for a given context:\n",
    "\n",
    "#####################\n",
    "#### YOUR CODE HERE \n",
    "#####################\n",
    "\n"
   ]
  },
  {
   "cell_type": "code",
   "execution_count": 0,
   "metadata": {
    "application/vnd.databricks.v1+cell": {
     "cellMetadata": {},
     "inputWidgets": {},
     "nuid": "37aec2de-0312-40d3-b10a-d9c6146fc482",
     "showTitle": false,
     "title": ""
    }
   },
   "outputs": [],
   "source": []
  }
 ],
 "metadata": {
  "application/vnd.databricks.v1+notebook": {
   "dashboards": [],
   "environmentMetadata": null,
   "language": "python",
   "notebookMetadata": {
    "pythonIndentUnit": 4
   },
   "notebookName": "user-user-twitter-network-exercise",
   "widgets": {}
  }
 },
 "nbformat": 4,
 "nbformat_minor": 0
}
