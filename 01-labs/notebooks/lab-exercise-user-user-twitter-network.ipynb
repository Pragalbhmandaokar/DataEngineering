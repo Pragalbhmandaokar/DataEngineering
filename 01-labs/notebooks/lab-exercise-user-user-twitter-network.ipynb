{
 "cells": [
  {
   "cell_type": "code",
   "execution_count": 0,
   "metadata": {
    "application/vnd.databricks.v1+cell": {
     "cellMetadata": {},
     "inputWidgets": {},
     "nuid": "8d501c01-466c-43aa-868f-b3ea26b07ef9",
     "showTitle": false,
     "title": ""
    }
   },
   "outputs": [],
   "source": [
    "uuRDD = sc.textFile('/FileStore/tables/uu_noheader.txt')\n",
    "\n",
    "\n",
    "uuRDD.take(5)"
   ]
  },
  {
   "cell_type": "code",
   "execution_count": 0,
   "metadata": {
    "application/vnd.databricks.v1+cell": {
     "cellMetadata": {},
     "inputWidgets": {},
     "nuid": "629a9fc2-bb7b-43b2-b6a9-3e4e04f156ec",
     "showTitle": false,
     "title": ""
    }
   },
   "outputs": [],
   "source": [
    "## tokenise the string\n",
    "uu_tokens = uuRDD.map(lambda x: x.split(','))\n",
    "\n",
    "uu_tokens.take(5)"
   ]
  },
  {
   "cell_type": "markdown",
   "metadata": {
    "application/vnd.databricks.v1+cell": {
     "cellMetadata": {},
     "inputWidgets": {},
     "nuid": "c31f9841-67b7-420f-a23c-d35060adc9ad",
     "showTitle": false,
     "title": ""
    }
   },
   "source": [
    "find the top 3 contexts that have the highest number of records"
   ]
  },
  {
   "cell_type": "code",
   "execution_count": 0,
   "metadata": {
    "application/vnd.databricks.v1+cell": {
     "cellMetadata": {},
     "inputWidgets": {},
     "nuid": "13205d77-389a-4698-ab04-447f93c358b7",
     "showTitle": false,
     "title": ""
    }
   },
   "outputs": [],
   "source": [
    "## all we need is the first element of each list, and we just use the \"wordCount\" pattern to count the number of occurrences\n",
    "\n",
    "contexts = uu_tokens.map(lambda l: l[0])\n",
    "\n",
    "contexts.take(5)"
   ]
  },
  {
   "cell_type": "code",
   "execution_count": 0,
   "metadata": {
    "application/vnd.databricks.v1+cell": {
     "cellMetadata": {},
     "inputWidgets": {},
     "nuid": "b24bf998-a3a3-4f34-889f-f7e7cf3de209",
     "showTitle": false,
     "title": ""
    }
   },
   "outputs": [],
   "source": [
    "## this is just wordcount:\n",
    "\n",
    "context_occurrences = contexts.map(lambda s: (s,1)).reduceByKey(lambda x,y: x+y)\n",
    "\n",
    "top_5_contexts = context_occurrences.sortBy(lambda x: x[1], ascending=False).map(lambda x: x[0]).take(5)"
   ]
  },
  {
   "cell_type": "code",
   "execution_count": 0,
   "metadata": {
    "application/vnd.databricks.v1+cell": {
     "cellMetadata": {},
     "inputWidgets": {},
     "nuid": "7d86d26f-eddd-41bd-972c-0c46cdde6fb2",
     "showTitle": false,
     "title": ""
    }
   },
   "outputs": [],
   "source": [
    "top_5_contexts"
   ]
  },
  {
   "cell_type": "markdown",
   "metadata": {
    "application/vnd.databricks.v1+cell": {
     "cellMetadata": {},
     "inputWidgets": {},
     "nuid": "fc3952ba-5561-44d8-b2a1-514897f1a485",
     "showTitle": false,
     "title": ""
    }
   },
   "source": [
    "task 2: for the top context, calculate the total weight associated with each outgoing edge for that context\n",
    "\n",
    "ex \n",
    "`'wear-purple-for-jia-2018,foomooboo,Ed_Miliband,1',\n",
    " 'dry-january-2018,kellyld77,DrinkTg,1',`\n",
    " \n",
    " the edges are `foomooboo --> Ed_Miliband` and `kellyld77 --> DrinkTg`"
   ]
  },
  {
   "cell_type": "code",
   "execution_count": 0,
   "metadata": {
    "application/vnd.databricks.v1+cell": {
     "cellMetadata": {},
     "inputWidgets": {},
     "nuid": "c7dd74db-1405-4c2f-97e1-327c7fb0f1a3",
     "showTitle": false,
     "title": ""
    }
   },
   "outputs": [],
   "source": [
    "## the idea is to use a pair (from,to) to represent an edge. Thus we use this pair as the key in the key value pair"
   ]
  },
  {
   "cell_type": "code",
   "execution_count": 0,
   "metadata": {
    "application/vnd.databricks.v1+cell": {
     "cellMetadata": {},
     "inputWidgets": {},
     "nuid": "5ea28ce5-188e-4e29-bfba-9a3a3b4d4fa8",
     "showTitle": false,
     "title": ""
    }
   },
   "outputs": [],
   "source": [
    "\n",
    "edge_weights = uu_tokens.filter(lambda l: l[0] == '16-days-of-action-2018').map(lambda l: ((l[1],l[2]), l[3]))"
   ]
  },
  {
   "cell_type": "code",
   "execution_count": 0,
   "metadata": {
    "application/vnd.databricks.v1+cell": {
     "cellMetadata": {},
     "inputWidgets": {},
     "nuid": "b9c8c7bc-9bbf-47ca-9b5b-c94c233239bf",
     "showTitle": false,
     "title": ""
    }
   },
   "outputs": [],
   "source": [
    "edge_weights.take(5)"
   ]
  },
  {
   "cell_type": "code",
   "execution_count": 0,
   "metadata": {
    "application/vnd.databricks.v1+cell": {
     "cellMetadata": {},
     "inputWidgets": {},
     "nuid": "158f8a64-7423-4539-bc03-98afe03dd1e4",
     "showTitle": false,
     "title": ""
    }
   },
   "outputs": [],
   "source": [
    "total_edge_weights = edge_weights.reduceByKey(lambda x,y : x+y).sortBy(lambda x: x[1])\n",
    "\n",
    "total_edge_weights.collect()"
   ]
  },
  {
   "cell_type": "markdown",
   "metadata": {
    "application/vnd.databricks.v1+cell": {
     "cellMetadata": {},
     "inputWidgets": {},
     "nuid": "1ea0be2c-a70b-4047-b6f2-474dae9f6037",
     "showTitle": false,
     "title": ""
    }
   },
   "source": [
    "we can achieve the same result more easily, using the DataFrame API:"
   ]
  },
  {
   "cell_type": "code",
   "execution_count": 0,
   "metadata": {
    "application/vnd.databricks.v1+cell": {
     "cellMetadata": {},
     "inputWidgets": {},
     "nuid": "e5bc492b-b51e-4b29-9b3d-8da9b4b7fc78",
     "showTitle": false,
     "title": ""
    }
   },
   "outputs": [],
   "source": [
    "from pyspark.sql.types import IntegerType\n",
    "\n",
    "## load the uu.txt raw file as RDD\n",
    "\n",
    "uuDF = spark.read.csv('/FileStore/tables/uu.csv', header=True)\n",
    "\n",
    "uuDF = uuDF.withColumn(\"weight\",uuDF.weight.cast(IntegerType()))\n"
   ]
  },
  {
   "cell_type": "code",
   "execution_count": 0,
   "metadata": {
    "application/vnd.databricks.v1+cell": {
     "cellMetadata": {},
     "inputWidgets": {},
     "nuid": "d4f75b3b-7542-4124-8bc5-c3c8c1c9836b",
     "showTitle": false,
     "title": ""
    }
   },
   "outputs": [],
   "source": [
    "# top 5 contexts:\n",
    "uuDF.groupBy(uuDF.context).count().sort('count', ascending = False).take(5)"
   ]
  },
  {
   "cell_type": "markdown",
   "metadata": {
    "application/vnd.databricks.v1+cell": {
     "cellMetadata": {},
     "inputWidgets": {},
     "nuid": "b9b573ba-82ce-4a86-ae26-747c49460904",
     "showTitle": false,
     "title": ""
    }
   },
   "source": [
    "task 2: for the top context, calculate the total weight associated with each edge for that context\n",
    "\n",
    "using DataFrames"
   ]
  },
  {
   "cell_type": "code",
   "execution_count": 0,
   "metadata": {
    "application/vnd.databricks.v1+cell": {
     "cellMetadata": {},
     "inputWidgets": {},
     "nuid": "c627ee8d-51a6-46d1-8a89-9cebab4e7ad2",
     "showTitle": false,
     "title": ""
    }
   },
   "outputs": [],
   "source": [
    "uuDF.filter(uuDF.context == '16-days-of-action-2018').groupby(['from', 'to']).sum('weight').take(5)"
   ]
  },
  {
   "cell_type": "markdown",
   "metadata": {
    "application/vnd.databricks.v1+cell": {
     "cellMetadata": {},
     "inputWidgets": {},
     "nuid": "2e05dfb7-dd82-4db8-9dbe-146c0dfb638f",
     "showTitle": false,
     "title": ""
    }
   },
   "source": [
    "finally, we can achieve the same goal using the SQL API"
   ]
  },
  {
   "cell_type": "code",
   "execution_count": 0,
   "metadata": {
    "application/vnd.databricks.v1+cell": {
     "cellMetadata": {},
     "inputWidgets": {},
     "nuid": "bc96104e-187d-48d2-906c-8743e2cc5013",
     "showTitle": false,
     "title": ""
    }
   },
   "outputs": [],
   "source": [
    "uuDF.createOrReplaceTempView('uu')"
   ]
  },
  {
   "cell_type": "code",
   "execution_count": 0,
   "metadata": {
    "application/vnd.databricks.v1+cell": {
     "cellMetadata": {},
     "inputWidgets": {},
     "nuid": "be32fefb-53f7-44fd-8f3c-577cb05fe41f",
     "showTitle": false,
     "title": ""
    }
   },
   "outputs": [],
   "source": [
    "## top contexts:\n",
    "spark.sql(\"SELECT context, count(context) as records_per_context FROM uu group by context order by records_per_context desc\").show()"
   ]
  },
  {
   "cell_type": "code",
   "execution_count": 0,
   "metadata": {
    "application/vnd.databricks.v1+cell": {
     "cellMetadata": {},
     "inputWidgets": {},
     "nuid": "2b529847-660b-4257-a0df-1720d46ef9ac",
     "showTitle": false,
     "title": ""
    }
   },
   "outputs": [],
   "source": [
    "## total weights for a given context:\n",
    "spark.sql(\"SELECT uu.from, uu.to, sum(uu.weight) as tot_weight FROM uu group by uu.from, uu.to\").show()\n"
   ]
  },
  {
   "cell_type": "code",
   "execution_count": 0,
   "metadata": {
    "application/vnd.databricks.v1+cell": {
     "cellMetadata": {},
     "inputWidgets": {},
     "nuid": "37aec2de-0312-40d3-b10a-d9c6146fc482",
     "showTitle": false,
     "title": ""
    }
   },
   "outputs": [],
   "source": []
  }
 ],
 "metadata": {
  "application/vnd.databricks.v1+notebook": {
   "dashboards": [],
   "environmentMetadata": null,
   "language": "python",
   "notebookMetadata": {
    "pythonIndentUnit": 4
   },
   "notebookName": "lab-exercise-user-user-twitter-network",
   "widgets": {}
  }
 },
 "nbformat": 4,
 "nbformat_minor": 0
}
